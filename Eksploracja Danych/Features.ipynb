{
 "cells": [
  {
   "cell_type": "code",
   "execution_count": 53,
   "id": "3f2d639e",
   "metadata": {},
   "outputs": [],
   "source": [
    "from sklearn.datasets import make_classification\n",
    "from sklearn.feature_selection import VarianceThreshold\n",
    "\n",
    "n_samples = 1000\n",
    "n_features = 20\n",
    "n_informative = 5\n",
    "\n",
    "n_redundant = 5\n",
    "n_duplicates = 5\n",
    "\n",
    "X, y = make_classification(n_samples=n_samples, n_features=n_features,\n",
    "                            n_informative=n_informative, n_redundant=n_redundant,\n",
    "                            n_repeated=n_duplicates, random_state=42,\n",
    "                            shuffle=False, class_sep=2.0)\n",
    "\n",
    "feature_names = [\"feature_\" + str(i) for i in range(X.shape[1])]\n",
    "\n",
    "informative_indices = range(n_informative)\n",
    "informative_names = [\"informative_\" + str(i) for i in informative_indices]\n",
    "for i, j in zip(informative_indices, informative_names):\n",
    "    feature_names[i] = j\n",
    "\n",
    "redundant_indices = range(n_informative, n_informative+n_redundant)\n",
    "redundant_names = [\"redundant_\" + str(i) for i in range(n_redundant)]\n",
    "for i, j in zip(redundant_indices, redundant_names):\n",
    "    feature_names[i] = j\n",
    "\n",
    "duplicated_indices = range(n_informative+n_redundant, n_informative+n_redundant+n_duplicates)\n",
    "duplicated_names = [\"duplicated_\" + str(i) for i in range(n_duplicates)]\n",
    "for i, j in zip(duplicated_indices, duplicated_names):\n",
    "    feature_names[i] = j"
   ]
  },
  {
   "cell_type": "code",
   "execution_count": 54,
   "id": "5466fa13",
   "metadata": {},
   "outputs": [
    {
     "name": "stdout",
     "output_type": "stream",
     "text": [
      "Fitting estimator with 20 features.\n",
      "Fitting estimator with 19 features.\n",
      "Fitting estimator with 18 features.\n",
      "Fitting estimator with 17 features.\n",
      "Fitting estimator with 16 features.\n",
      "Fitting estimator with 15 features.\n",
      "Fitting estimator with 14 features.\n",
      "Fitting estimator with 13 features.\n",
      "Fitting estimator with 12 features.\n",
      "Fitting estimator with 11 features.\n",
      "Fitting estimator with 10 features.\n",
      "Fitting estimator with 9 features.\n",
      "Fitting estimator with 8 features.\n",
      "Fitting estimator with 7 features.\n",
      "Fitting estimator with 6 features.\n",
      "Selected features: ['informative_0', 'informative_1', 'redundant_3', 'duplicated_1', 'feature_19']\n"
     ]
    }
   ],
   "source": [
    "model = LogisticRegression()\n",
    "\n",
    "rfe = RFE(model, n_features_to_select=5, verbose=1)\n",
    "\n",
    "rfe.fit(X, y)\n",
    "\n",
    "selected_features = [feature_names[i] for i in range(len(feature_names)) if rfe.support_[i]]\n",
    "print(f\"Selected features: {selected_features}\")\n"
   ]
  },
  {
   "cell_type": "code",
   "execution_count": 55,
   "id": "6dc54ad8",
   "metadata": {},
   "outputs": [
    {
     "name": "stdout",
     "output_type": "stream",
     "text": [
      "Selected features: ['redundant_2', 'redundant_3']\n"
     ]
    }
   ],
   "source": [
    "from sklearn.datasets import make_classification\n",
    "from sklearn.linear_model import Lasso\n",
    "\n",
    "model = Lasso(alpha=0.1)\n",
    "\n",
    "model.fit(X, y)\n",
    "\n",
    "coef = model.coef_\n",
    "\n",
    "\n",
    "selected_features = [feature_names[i] for i in range(len(feature_names)) if coef[i] != 0]\n",
    "print(f\"Selected features: {selected_features}\")\n"
   ]
  },
  {
   "cell_type": "code",
   "execution_count": 56,
   "id": "5b7d5903",
   "metadata": {},
   "outputs": [
    {
     "name": "stdout",
     "output_type": "stream",
     "text": [
      "Selected features: ['redundant_2', 'duplicated_3', 'redundant_1', 'redundant_4', 'duplicated_0']\n"
     ]
    }
   ],
   "source": [
    "from sklearn.datasets import make_classification\n",
    "from sklearn.feature_selection import VarianceThreshold\n",
    "\n",
    "\n",
    "\n",
    "\n",
    "selector = VarianceThreshold(threshold=0.1)\n",
    "\n",
    "X_transformed = selector.fit_transform(X)\n",
    "\n",
    "selected_indices = selector.variances_.argsort()[::-1][:5]\n",
    "\n",
    "selected_features = [feature_names[i] for i in selected_indices]\n",
    "print(f\"Selected features: {selected_features}\")\n"
   ]
  },
  {
   "cell_type": "markdown",
   "id": "f0e43bab",
   "metadata": {},
   "source": [
    "Żeby naprawdę znaleść większosć informative features potrzebujemu o wiele więcej od 1000 linij"
   ]
  }
 ],
 "metadata": {
  "kernelspec": {
   "display_name": "Python 3 (ipykernel)",
   "language": "python",
   "name": "python3"
  },
  "language_info": {
   "codemirror_mode": {
    "name": "ipython",
    "version": 3
   },
   "file_extension": ".py",
   "mimetype": "text/x-python",
   "name": "python",
   "nbconvert_exporter": "python",
   "pygments_lexer": "ipython3",
   "version": "3.9.7"
  }
 },
 "nbformat": 4,
 "nbformat_minor": 5
}
